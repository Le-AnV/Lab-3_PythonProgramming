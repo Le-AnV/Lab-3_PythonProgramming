{
 "cells": [
  {
   "cell_type": "markdown",
   "id": "e441caca",
   "metadata": {},
   "source": [
    "### Bài 1"
   ]
  },
  {
   "cell_type": "code",
   "execution_count": 321,
   "id": "f0250cbd",
   "metadata": {},
   "outputs": [],
   "source": [
    "from bs4 import BeautifulSoup\n",
    "import pandas as pd"
   ]
  },
  {
   "cell_type": "markdown",
   "id": "ed7b85c8",
   "metadata": {},
   "source": [
    "#### 1. Hiển thị tất cả các sinh viên"
   ]
  },
  {
   "cell_type": "code",
   "execution_count": 322,
   "id": "9e62b153",
   "metadata": {},
   "outputs": [
    {
     "data": {
      "application/vnd.microsoft.datawrangler.viewer.v0+json": {
       "columns": [
        {
         "name": "index",
         "rawType": "int64",
         "type": "integer"
        },
        {
         "name": "id",
         "rawType": "int64",
         "type": "integer"
        },
        {
         "name": "name",
         "rawType": "object",
         "type": "string"
        },
        {
         "name": "age",
         "rawType": "int64",
         "type": "integer"
        },
        {
         "name": "city",
         "rawType": "object",
         "type": "string"
        }
       ],
       "conversionMethod": "pd.DataFrame",
       "ref": "2d1dd90e-e175-4091-a2b4-d6282e1c92ce",
       "rows": [
        [
         "0",
         "1",
         "Becka",
         "19",
         "HCM"
        ],
        [
         "1",
         "10",
         "Anna",
         "27",
         "NT"
        ],
        [
         "2",
         "2",
         "Ray",
         "18",
         "HCM"
        ],
        [
         "3",
         "3",
         "Rayme",
         "20",
         "DN"
        ],
        [
         "4",
         "4",
         "Jack",
         "18",
         "HN"
        ],
        [
         "5",
         "5",
         "Kevin",
         "30",
         "CT"
        ],
        [
         "6",
         "6",
         "Rocky",
         "21",
         "DN"
        ],
        [
         "7",
         "7",
         "Elsa",
         "18",
         "HN"
        ],
        [
         "8",
         "8",
         "Jackli",
         "22",
         "HCM"
        ],
        [
         "9",
         "9",
         "Alson",
         "23",
         "HCM"
        ]
       ],
       "shape": {
        "columns": 4,
        "rows": 10
       }
      },
      "text/html": [
       "<div>\n",
       "<style scoped>\n",
       "    .dataframe tbody tr th:only-of-type {\n",
       "        vertical-align: middle;\n",
       "    }\n",
       "\n",
       "    .dataframe tbody tr th {\n",
       "        vertical-align: top;\n",
       "    }\n",
       "\n",
       "    .dataframe thead th {\n",
       "        text-align: right;\n",
       "    }\n",
       "</style>\n",
       "<table border=\"1\" class=\"dataframe\">\n",
       "  <thead>\n",
       "    <tr style=\"text-align: right;\">\n",
       "      <th></th>\n",
       "      <th>id</th>\n",
       "      <th>name</th>\n",
       "      <th>age</th>\n",
       "      <th>city</th>\n",
       "    </tr>\n",
       "  </thead>\n",
       "  <tbody>\n",
       "    <tr>\n",
       "      <th>0</th>\n",
       "      <td>1</td>\n",
       "      <td>Becka</td>\n",
       "      <td>19</td>\n",
       "      <td>HCM</td>\n",
       "    </tr>\n",
       "    <tr>\n",
       "      <th>1</th>\n",
       "      <td>10</td>\n",
       "      <td>Anna</td>\n",
       "      <td>27</td>\n",
       "      <td>NT</td>\n",
       "    </tr>\n",
       "    <tr>\n",
       "      <th>2</th>\n",
       "      <td>2</td>\n",
       "      <td>Ray</td>\n",
       "      <td>18</td>\n",
       "      <td>HCM</td>\n",
       "    </tr>\n",
       "    <tr>\n",
       "      <th>3</th>\n",
       "      <td>3</td>\n",
       "      <td>Rayme</td>\n",
       "      <td>20</td>\n",
       "      <td>DN</td>\n",
       "    </tr>\n",
       "    <tr>\n",
       "      <th>4</th>\n",
       "      <td>4</td>\n",
       "      <td>Jack</td>\n",
       "      <td>18</td>\n",
       "      <td>HN</td>\n",
       "    </tr>\n",
       "    <tr>\n",
       "      <th>5</th>\n",
       "      <td>5</td>\n",
       "      <td>Kevin</td>\n",
       "      <td>30</td>\n",
       "      <td>CT</td>\n",
       "    </tr>\n",
       "    <tr>\n",
       "      <th>6</th>\n",
       "      <td>6</td>\n",
       "      <td>Rocky</td>\n",
       "      <td>21</td>\n",
       "      <td>DN</td>\n",
       "    </tr>\n",
       "    <tr>\n",
       "      <th>7</th>\n",
       "      <td>7</td>\n",
       "      <td>Elsa</td>\n",
       "      <td>18</td>\n",
       "      <td>HN</td>\n",
       "    </tr>\n",
       "    <tr>\n",
       "      <th>8</th>\n",
       "      <td>8</td>\n",
       "      <td>Jackli</td>\n",
       "      <td>22</td>\n",
       "      <td>HCM</td>\n",
       "    </tr>\n",
       "    <tr>\n",
       "      <th>9</th>\n",
       "      <td>9</td>\n",
       "      <td>Alson</td>\n",
       "      <td>23</td>\n",
       "      <td>HCM</td>\n",
       "    </tr>\n",
       "  </tbody>\n",
       "</table>\n",
       "</div>"
      ],
      "text/plain": [
       "   id    name  age city\n",
       "0   1   Becka   19  HCM\n",
       "1  10    Anna   27   NT\n",
       "2   2     Ray   18  HCM\n",
       "3   3   Rayme   20   DN\n",
       "4   4    Jack   18   HN\n",
       "5   5   Kevin   30   CT\n",
       "6   6   Rocky   21   DN\n",
       "7   7    Elsa   18   HN\n",
       "8   8  Jackli   22  HCM\n",
       "9   9   Alson   23  HCM"
      ]
     },
     "execution_count": 322,
     "metadata": {},
     "output_type": "execute_result"
    }
   ],
   "source": [
    "df_students = pd.read_xml('../Lab3/data/students.xml')\n",
    "df_students"
   ]
  },
  {
   "cell_type": "markdown",
   "id": "4b45102e",
   "metadata": {},
   "source": [
    "#### 2. Hiển thị danh sách sinh viên theo city"
   ]
  },
  {
   "cell_type": "code",
   "execution_count": 323,
   "id": "e10b4d21",
   "metadata": {},
   "outputs": [],
   "source": [
    "def find_by_city(df, city_name):\n",
    "\n",
    "    if not city_name: # if city_name == None, [], false, ...\n",
    "        print(\"Lỗi nhập dữ liệu\")\n",
    "        return \n",
    "\n",
    "    rls = df[df['city'] == city_name]\n",
    "\n",
    "    # Nếu df là không thì hiển thị thông báo và sau đó là thoát khỏi hàm\n",
    "    if rls.empty:\n",
    "        print(\"Không tìm thấy dữ liệu sinh viên\")\n",
    "        return \n",
    "        \n",
    "    # trả về df nếu tìm thấy dữ liệu\n",
    "    else:\n",
    "        return rls.sort_values(by = 'id').reset_index(drop=True)"
   ]
  },
  {
   "cell_type": "markdown",
   "id": "70a49e87",
   "metadata": {},
   "source": [
    "#### 3. Tìm sinh viên theo tên"
   ]
  },
  {
   "cell_type": "code",
   "execution_count": 324,
   "id": "0b9fff4d",
   "metadata": {},
   "outputs": [],
   "source": [
    "def find_by_student_name(df, student_name:str):\n",
    "\n",
    "    if not student_name:\n",
    "        print(\"Lỗi nhập dữ liệu\")\n",
    "        return \n",
    "    \n",
    "    rls = df[df['name'] == student_name]\n",
    "\n",
    "    if rls.empty:\n",
    "        print(\"Không tìm thấy dữ liệu sinh viên\")\n",
    "        return\n",
    "        \n",
    "    else:\n",
    "        return rls.sort_values(by = 'id').reset_index(drop=True)"
   ]
  },
  {
   "cell_type": "markdown",
   "id": "8874a685",
   "metadata": {},
   "source": [
    "#### 4. Sắp xếp danh sách sinh viên theo tuổi và ghi vào file xml mới theo thứ tự đã sắp xếp"
   ]
  },
  {
   "cell_type": "code",
   "execution_count": 325,
   "id": "58ed3ce9",
   "metadata": {},
   "outputs": [],
   "source": [
    "def export_and_record_xml(df) -> None:\n",
    "    # Đảm bảo kiểu dữ liệu chuẩn để tránh lỗi khi ghi XML\n",
    "    df['id'] = df['id'].astype(str)\n",
    "    df['age'] = pd.to_numeric(df['age'], errors='coerce')\n",
    "\n",
    "    # Xuất ra XML\n",
    "    new_xml = df.to_xml(root_name='students', row_name='student', index=False)\n",
    "\n",
    "    # Ghi vào file\n",
    "    with open('../Lab3/data/students.xml', 'w', encoding='utf-8') as f:\n",
    "        f.write(new_xml)\n"
   ]
  },
  {
   "cell_type": "code",
   "execution_count": 326,
   "id": "8db8024f",
   "metadata": {},
   "outputs": [],
   "source": [
    "# Mặc định sẽ là sắp xếp tăng dần\n",
    "def sortBy_age(df, ascending = True):\n",
    "\n",
    "    # Sắp xếp theo tuổi, mặc định là tăng dần\n",
    "    rls = df.sort_values(by = 'age', ascending=ascending)\n",
    "\n",
    "    new_xml = rls.to_xml(root_name = 'students', row_name = 'student', index =False)\n",
    "    with open('new_students.xml', 'w') as f:\n",
    "        f.write(new_xml)\n",
    "\n",
    "    return "
   ]
  },
  {
   "cell_type": "markdown",
   "id": "5154bdcd",
   "metadata": {},
   "source": [
    "#### 5. Thêm sinh viên mới và ghi lại file"
   ]
  },
  {
   "cell_type": "code",
   "execution_count": 327,
   "id": "67d7db1c",
   "metadata": {},
   "outputs": [],
   "source": [
    "def insert_student_to_XML(xml_file, input_id, input_name, input_age, input_city):\n",
    "    import pandas as pd\n",
    "\n",
    "    # Đọc file XML\n",
    "    df_students = pd.read_xml(xml_file)\n",
    "\n",
    "    # Tạo DataFrame mới từ dữ liệu đầu vào\n",
    "    new_student = pd.DataFrame([{\n",
    "        'id': str(input_id),\n",
    "        'name': input_name,\n",
    "        'age': int(input_age),\n",
    "        'city': input_city\n",
    "    }])\n",
    "\n",
    "    # Ép kiểu id về chuỗi để tránh lỗi sort\n",
    "    df_students['id'] = df_students['id'].astype(str)\n",
    "\n",
    "    # Nối và sắp xếp\n",
    "    df_students = pd.concat([df_students, new_student], ignore_index=True)\n",
    "    df_students = df_students.sort_values(by='id')\n",
    "\n",
    "    # Ghi đè lại file XML\n",
    "    export_and_record_xml(df_students)\n",
    "\n",
    "    return None\n"
   ]
  },
  {
   "cell_type": "markdown",
   "id": "0c0287b4",
   "metadata": {},
   "source": [
    "#### 6. Sửa dữ liệu của sinh viên theo ID"
   ]
  },
  {
   "cell_type": "code",
   "execution_count": 328,
   "id": "180bb68c",
   "metadata": {},
   "outputs": [],
   "source": [
    "# Điều kiện để thực hiện xoá hoặc sửa dữ liệu\n",
    "def findBy_id(df: pd.DataFrame, input_id: str) -> bool:\n",
    "    df['id'] = df['id'].astype(str)\n",
    "    return not df[df['id'] == input_id].empty\n",
    "\n",
    "    \n",
    "\n",
    "def edit_infor(df: pd.DataFrame, input_id: str, new_name: str, new_age: str, new_city: str) -> None:\n",
    "    mask = df['id'] == input_id\n",
    "\n",
    "    # Cập nhật\n",
    "    if new_name:\n",
    "        df.loc[mask, 'name'] = new_name\n",
    "\n",
    "    if new_age:\n",
    "        try:\n",
    "            df.loc[mask, 'age'] = int(new_age)\n",
    "        except ValueError:\n",
    "            print(\"Tuổi phải là số.\")\n",
    "\n",
    "    if new_city:\n",
    "        df.loc[mask, 'city'] = new_city\n",
    "\n",
    "    export_and_record_xml(df)\n",
    "    return None\n"
   ]
  },
  {
   "cell_type": "markdown",
   "id": "5e59761d",
   "metadata": {},
   "source": [
    "#### 7. Xoá sinh viên và ghi lại vào file"
   ]
  },
  {
   "cell_type": "code",
   "execution_count": 329,
   "id": "6991ac27",
   "metadata": {},
   "outputs": [],
   "source": [
    "def del_student(df: pd.DataFrame, input_id: str):\n",
    "    df['id'] = df['id'].astype(str)\n",
    "    student_mask = df['id'] == input_id\n",
    "\n",
    "    df.drop(index=df[student_mask].index, inplace=True)\n",
    "\n",
    "    # Ghi lại file XML\n",
    "    export_and_record_xml(df)\n",
    "    return df\n"
   ]
  },
  {
   "cell_type": "markdown",
   "id": "5519a4d9",
   "metadata": {},
   "source": [
    "### Menu"
   ]
  },
  {
   "cell_type": "code",
   "execution_count": null,
   "id": "4b272dac",
   "metadata": {},
   "outputs": [
    {
     "name": "stdout",
     "output_type": "stream",
     "text": [
      "\n",
      "--- MENU ---\n",
      "1. Hiển thị tất cả các sinh viên\n",
      "2. Hiển thị danh sách sinh viên theo city\n",
      "3. Tìm sinh viên theo tên\n",
      "4. Sắp xếp danh sách sinh viên theo tuổi và ghi vào file xml mới\n",
      "5. Thêm sinh viên mới và ghi lại file\n",
      "6. Sửa dữ liệu của sinh viên theo ID\n",
      "7. Xoá sinh viên và ghi lại vào file\n",
      "0. Thoát\n",
      "\n",
      "--- MENU ---\n",
      "1. Hiển thị tất cả các sinh viên\n",
      "2. Hiển thị danh sách sinh viên theo city\n",
      "3. Tìm sinh viên theo tên\n",
      "4. Sắp xếp danh sách sinh viên theo tuổi và ghi vào file xml mới\n",
      "5. Thêm sinh viên mới và ghi lại file\n",
      "6. Sửa dữ liệu của sinh viên theo ID\n",
      "7. Xoá sinh viên và ghi lại vào file\n",
      "0. Thoát\n",
      "Thoát chương trình.\n"
     ]
    }
   ],
   "source": [
    "def menu():\n",
    "    # Đọc file XML\n",
    "    df_students = pd.read_xml('../Lab3/data/students.xml')\n",
    "    \n",
    "    while True:\n",
    "        print(\"\\n--- MENU ---\")\n",
    "        print(\"1. Hiển thị tất cả các sinh viên\")\n",
    "        print(\"2. Hiển thị danh sách sinh viên theo city\")\n",
    "        print(\"3. Tìm sinh viên theo tên\")\n",
    "        print(\"4. Sắp xếp danh sách sinh viên theo tuổi và ghi vào file xml mới\")\n",
    "        print(\"5. Thêm sinh viên mới và ghi lại file\")\n",
    "        print(\"6. Sửa dữ liệu của sinh viên theo ID\")\n",
    "        print(\"7. Xoá sinh viên và ghi lại vào file\")\n",
    "        print(\"0. Thoát\")\n",
    "        \n",
    "        choice = input(\"Nhập lựa chọn của bạn: \")\n",
    "        \n",
    "        if choice == \"1\":\n",
    "            print(df_students)\n",
    "        \n",
    "        elif choice == \"2\":\n",
    "            city_name = input(\"Nhập tên city: \")\n",
    "            result = find_by_city(df_students, city_name)\n",
    "            if result is not None:\n",
    "                print(result)\n",
    "        \n",
    "        elif choice == \"3\":\n",
    "            student_name = input(\"Nhập tên sinh viên: \")\n",
    "            result = find_by_student_name(df_students, student_name)\n",
    "            if result is not None:\n",
    "                print(result)\n",
    "        \n",
    "        elif choice == \"4\":\n",
    "            ascending = input(\"Sắp xếp tăng dần? (y/n): \").lower()\n",
    "\n",
    "            if ascending == 'y':\n",
    "                arg = True\n",
    "            else:\n",
    "                arg = False\n",
    "\n",
    "            sortBy_age(df_students, ascending=arg) \n",
    "            print(\"Dữ liệu đã được sắp xếp và xuất ra file XML:\")\n",
    "        \n",
    "        elif choice == \"5\":\n",
    "            input_id = input(\"Nhập ID: \")\n",
    "            input_name = input(\"Nhập tên: \")\n",
    "            input_age  = input(\"Nhập tuổi: \")\n",
    "            input_city = input(\"Nhập city: \")\n",
    "            try:\n",
    "                insert_student_to_XML('../Lab3/data/students.xml', input_id, input_name, int(input_age), input_city)\n",
    "                print(\"Thêm sinh viên thành công!\")\n",
    "            except Exception as e:\n",
    "                print(f\"Lỗi: {e}\")\n",
    "        \n",
    "        elif choice == \"6\":\n",
    "            input_id = input(\"Nhập ID của sinh viên muốn sửa: \")\n",
    "            if findBy_id(df_students, input_id):\n",
    "                new_name = input(\"Nhập tên mới: \")\n",
    "                new_age = input(\"Nhập tuổi mới: \")\n",
    "                new_city = input(\"Nhập city mới: \")\n",
    "                edit_infor(df_students, input_id, new_name, new_age, new_city)\n",
    "                print(\"Đã sửa thành công.\")\n",
    "            else:\n",
    "                print(\"Không tìm thấy sinh viên với ID đã nhập.\")\n",
    "        \n",
    "        elif choice == \"7\":\n",
    "            input_id = input(\"Nhập ID của sinh viên muốn xóa: \").strip()\n",
    "            if not findBy_id(df_students, input_id):\n",
    "                print(\"Không tìm thấy sinh viên với ID đã nhập.\")\n",
    "                continue\n",
    "\n",
    "            df_after_delete = del_student(df_students, input_id)\n",
    "            print(\"Đã xoá thành công. Dữ liệu hiện tại:\")\n",
    "            print(df_after_delete)\n",
    "\n",
    "            \n",
    "        \n",
    "        elif choice == \"0\":\n",
    "            print(\"Thoát chương trình.\")\n",
    "            break\n",
    "        \n",
    "        else:\n",
    "            print(\"Lựa chọn không hợp lệ. Vui lòng thử lại.\")\n",
    "\n",
    "# Gọi hàm menu\n",
    "menu()"
   ]
  },
  {
   "cell_type": "markdown",
   "id": "a6e16ee7",
   "metadata": {},
   "source": [
    "## Lỗi 5,6,7"
   ]
  }
 ],
 "metadata": {
  "kernelspec": {
   "display_name": "Python 3",
   "language": "python",
   "name": "python3"
  },
  "language_info": {
   "codemirror_mode": {
    "name": "ipython",
    "version": 3
   },
   "file_extension": ".py",
   "mimetype": "text/x-python",
   "name": "python",
   "nbconvert_exporter": "python",
   "pygments_lexer": "ipython3",
   "version": "3.10.2"
  }
 },
 "nbformat": 4,
 "nbformat_minor": 5
}
