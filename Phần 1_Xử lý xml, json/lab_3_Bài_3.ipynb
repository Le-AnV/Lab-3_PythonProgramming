{
 "cells": [
  {
   "cell_type": "markdown",
   "id": "27a400ed",
   "metadata": {},
   "source": [
    "## Bài 3"
   ]
  },
  {
   "cell_type": "code",
   "execution_count": 20,
   "id": "575a2a5e",
   "metadata": {},
   "outputs": [],
   "source": [
    "# Import các thư viện cần thiết\n",
    "import json\n",
    "import pandas as pd\n",
    "from bs4 import BeautifulSoup"
   ]
  },
  {
   "cell_type": "code",
   "execution_count": 21,
   "id": "102f0373",
   "metadata": {},
   "outputs": [],
   "source": [
    "# Import thêm thư viện datetime để xử lý thời gian\n",
    "import json\n",
    "from datetime import datetime, timedelta\n",
    "\n",
    "# Đọc dữ liệu từ file JSON\n",
    "with open(\"F:\\Document\\Tổng hợp các môn học\\Python Programming\\Lab\\Lab3\\data\\PythonGroup.json\", \"r\", encoding=\"utf-8\") as f:\n",
    "    data = json.load(f)\n",
    "\n",
    "# Lấy danh sách các bài viết từ dữ liệu\n",
    "posts = data[\"group\"][\"posts\"]"
   ]
  },
  {
   "cell_type": "markdown",
   "id": "435c2970",
   "metadata": {},
   "source": [
    "### 1. Hiển thị thông tin các bài viết, số lượng like, share(hiển thị tên người like, share)"
   ]
  },
  {
   "cell_type": "code",
   "execution_count": 22,
   "id": "75a141ba",
   "metadata": {},
   "outputs": [
    {
     "name": "stdout",
     "output_type": "stream",
     "text": [
      "\n",
      "Bài viết ID: post_001\n",
      "Tác giả: John Doe\n",
      "Thời gian đăng: 2024-08-03 12:34:56\n",
      "Nội dung: Python is very easy. How do you think?\n",
      "Số lượt like: 2\n",
      "Người đã like:\n",
      " - Jane Smith\n",
      " - Alice Johnson\n",
      "Số lượt share: 1\n",
      "Người đã share:\n",
      " - Bob Brown\n",
      "\n",
      "Bài viết ID: post_002\n",
      "Tác giả: Jane Smith\n",
      "Thời gian đăng: 2024-08-03 15:34:56\n",
      "Nội dung: Learning Python by reading book and coding\n",
      "Số lượt like: 1\n",
      "Người đã like:\n",
      " - John Doe\n",
      "Số lượt share: 1\n",
      "Người đã share:\n",
      " - Alice Johnson\n",
      "\n",
      "Bài viết ID: post_004\n",
      "Tác giả: Le Van An\n",
      "Thời gian đăng: 2025-05-09 21:42:59\n",
      "Nội dung: Thực hiện việc cấu hình các thông số bằng cách cập nhập vào 2 file trên. Chương  trình sẽ hiện menu hỏi người dùng muốn cập nhật thông tin gì.\n",
      "Số lượt like: 0\n",
      "Người đã like:\n",
      "Số lượt share: 0\n",
      "Người đã share:\n"
     ]
    }
   ],
   "source": [
    "# Hàm hiển thị thông tin chi tiết của các bài viết\n",
    "def display_posts(posts):\n",
    "    for post in posts:\n",
    "        # Hiển thị thông tin cơ bản của bài viết\n",
    "        print(f\"\\nBài viết ID: {post['post_id']}\")\n",
    "        print(f\"Tác giả: {post['author']['name']}\")\n",
    "        print(f\"Thời gian đăng: {post['timestamp']}\")\n",
    "        print(f\"Nội dung: {post['content']}\")\n",
    "        print(f\"Số lượt like: {len(post['likes'])}\")\n",
    "        \n",
    "        # Hiển thị danh sách người đã like\n",
    "        print(\"Người đã like:\")\n",
    "        for user in post['likes']:\n",
    "            print(f\" - {user['name']}\")\n",
    "        \n",
    "        # Hiển thị danh sách người đã share\n",
    "        print(f\"Số lượt share: {len(post['shares'])}\")\n",
    "        print(\"Người đã share:\")\n",
    "        for user in post['shares']:\n",
    "            print(f\" - {user['name']}\")\n",
    "\n",
    "# Gọi hàm để hiển thị thông tin các bài viết\n",
    "display_posts(posts)"
   ]
  },
  {
   "cell_type": "markdown",
   "id": "c8e1b837",
   "metadata": {},
   "source": [
    "### 2. Tìm bài viết có số lượng like và share nhiều nhất(quy ước: like: +1, share: +2"
   ]
  },
  {
   "cell_type": "code",
   "execution_count": 23,
   "id": "32de060e",
   "metadata": {},
   "outputs": [
    {
     "name": "stdout",
     "output_type": "stream",
     "text": [
      "Bài viết có tổng tương tác cao nhất:\n",
      "ID: post_001\n",
      "Nội dung: Python is very easy. How do you think?\n",
      "Điểm tương tác: 4\n"
     ]
    }
   ],
   "source": [
    "# Hàm tìm bài viết có tổng tương tác (like + share) cao nhất\n",
    "def find_top_engaged_post(posts):\n",
    "    max_score = -1  # Biến lưu điểm tương tác cao nhất\n",
    "    top_post = None  # Biến lưu bài viết có tương tác cao nhất\n",
    "\n",
    "    for post in posts:\n",
    "        # Tính điểm tương tác: 1 like = 1 điểm, 1 share = 2 điểm\n",
    "        score = len(post[\"likes\"]) * 1 + len(post[\"shares\"]) * 2\n",
    "        if score > max_score:\n",
    "            max_score = score\n",
    "            top_post = post\n",
    "\n",
    "    # Hiển thị bài viết có tổng tương tác cao nhất\n",
    "    print(\"Bài viết có tổng tương tác cao nhất:\")\n",
    "    print(f\"ID: {top_post['post_id']}\")\n",
    "    print(f\"Nội dung: {top_post['content']}\")\n",
    "    print(f\"Điểm tương tác: {max_score}\")\n",
    "\n",
    "# Gọi hàm để tìm bài viết có tổng tương tác cao nhất\n",
    "find_top_engaged_post(posts)"
   ]
  },
  {
   "cell_type": "markdown",
   "id": "373baaad",
   "metadata": {},
   "source": [
    "### 3. Tìm bài viết có số lượng like nhiều nhất trong khoảng thởi gian 1h kể từ lúc post bài."
   ]
  },
  {
   "cell_type": "code",
   "execution_count": 24,
   "id": "b97887de",
   "metadata": {},
   "outputs": [
    {
     "name": "stdout",
     "output_type": "stream",
     "text": [
      "Bài viết có nhiều like nhất trong 1 giờ đầu:\n",
      "ID: post_001\n",
      "Nội dung: Python is very easy. How do you think?\n",
      "Số like trong 1 giờ: 2\n"
     ]
    }
   ],
   "source": [
    "# Hàm tìm bài viết có nhiều lượt like nhất trong 1 giờ đầu tiên\n",
    "def find_post_with_most_likes_in_1h(posts):\n",
    "    fmt = \"%Y-%m-%d %H:%M:%S\"  # Định dạng thời gian\n",
    "    result = None  # Biến lưu bài viết có nhiều like nhất\n",
    "    max_likes = 0  # Biến lưu số lượng like cao nhất\n",
    "\n",
    "    for post in posts:\n",
    "        # Chuyển đổi thời gian bài viết sang đối tượng datetime\n",
    "        post_time = datetime.strptime(post[\"timestamp\"], fmt)\n",
    "        end_time = post_time + timedelta(hours=1)  # Thời gian kết thúc 1 giờ sau\n",
    "        count = sum(\n",
    "            1 for like in post[\"likes\"]\n",
    "            if post_time <= datetime.strptime(like[\"timestamp\"], fmt) <= end_time\n",
    "        )\n",
    "\n",
    "        if count > max_likes:\n",
    "            max_likes = count\n",
    "            result = post\n",
    "\n",
    "    # Hiển thị bài viết có nhiều like nhất trong 1 giờ đầu\n",
    "    if result:\n",
    "        print(\"Bài viết có nhiều like nhất trong 1 giờ đầu:\")\n",
    "        print(f\"ID: {result['post_id']}\")\n",
    "        print(f\"Nội dung: {result['content']}\")\n",
    "        print(f\"Số like trong 1 giờ: {max_likes}\")\n",
    "    else:\n",
    "        print(\"Không có bài viết nào thỏa điều kiện.\")\n",
    "\n",
    "# Gọi hàm để tìm bài viết có nhiều like nhất trong 1 giờ đầu\n",
    "find_post_with_most_likes_in_1h(posts)"
   ]
  },
  {
   "cell_type": "markdown",
   "id": "47508b23",
   "metadata": {},
   "source": [
    "### 4. Thêm thông tin một bài viết mới vào file(bao gồm các thông tin giống các bài viết cũ)"
   ]
  },
  {
   "cell_type": "code",
   "execution_count": null,
   "id": "beebdbdd",
   "metadata": {},
   "outputs": [],
   "source": [
    "# Hàm thêm bài viết mới vào danh sách\n",
    "def add_new_post():\n",
    "    # Tạo bài viết mới với thông tin nhập từ người dùng\n",
    "    new_post = {\n",
    "        \"post_id\": input(\"Nhập Post ID: \"),\n",
    "        \"author\": {\n",
    "            \"user_id\": input(\"Nhập User ID tác giả: \"),\n",
    "            \"name\": input(\"Nhập tên tác giả: \")\n",
    "        },\n",
    "        \"content\": input(\"Nhập nội dung bài viết: \"),\n",
    "        \"timestamp\": datetime.now().strftime(\"%Y-%m-%d %H:%M:%S\"),  # Lấy thời gian hiện tại\n",
    "        \"likes\": [],\n",
    "        \"shares\": []\n",
    "    }\n",
    "\n",
    "    # Thêm bài viết mới vào danh sách\n",
    "    posts.append(new_post)\n",
    "\n",
    "    # Ghi lại danh sách bài viết vào file JSON\n",
    "    with open(\"../Lab3/data/PythonGroup.json\", \"w\", encoding=\"utf-8\") as f:\n",
    "        json.dump(data, f, indent=2, ensure_ascii=False)\n",
    "\n",
    "    print(\"Đã thêm bài viết mới vào file.\")\n",
    "\n",
    "# Gọi hàm để thêm bài viết mới\n",
    "add_new_post()"
   ]
  },
  {
   "cell_type": "markdown",
   "id": "c45df638",
   "metadata": {},
   "source": [
    "### 5. Tìm và hiển thị thông tin của người có số lượng like, share nhiều nhất trong nhóm."
   ]
  },
  {
   "cell_type": "code",
   "execution_count": 26,
   "id": "1ee3fabe",
   "metadata": {},
   "outputs": [
    {
     "name": "stdout",
     "output_type": "stream",
     "text": [
      "Người có tổng lượt like/share nhiều nhất:\n",
      "Tên: Alice Johnson\n",
      "Tổng lượt: 2\n"
     ]
    }
   ],
   "source": [
    "# Hàm tìm người dùng có tổng lượt like/share nhiều nhất\n",
    "from collections import defaultdict\n",
    "\n",
    "def find_most_active_user(posts):\n",
    "    user_count = defaultdict(int)  # Sử dụng defaultdict để đếm số lượt like/share của từng người\n",
    "\n",
    "    for post in posts:\n",
    "        # Đếm số lượt like của từng người\n",
    "        for like in post[\"likes\"]:\n",
    "            user_count[like[\"name\"]] += 1\n",
    "        # Đếm số lượt share của từng người\n",
    "        for share in post[\"shares\"]:\n",
    "            user_count[share[\"name\"]] += 1\n",
    "\n",
    "    # Tìm người có tổng lượt like/share nhiều nhất\n",
    "    max_user = max(user_count, key=user_count.get)\n",
    "    print(\"Người có tổng lượt like/share nhiều nhất:\")\n",
    "    print(f\"Tên: {max_user}\")\n",
    "    print(f\"Tổng lượt: {user_count[max_user]}\")\n",
    "\n",
    "# Gọi hàm để tìm người dùng có tổng lượt like/share nhiều nhất\n",
    "find_most_active_user(posts)"
   ]
  }
 ],
 "metadata": {
  "kernelspec": {
   "display_name": "Python 3",
   "language": "python",
   "name": "python3"
  },
  "language_info": {
   "codemirror_mode": {
    "name": "ipython",
    "version": 3
   },
   "file_extension": ".py",
   "mimetype": "text/x-python",
   "name": "python",
   "nbconvert_exporter": "python",
   "pygments_lexer": "ipython3",
   "version": "3.10.2"
  }
 },
 "nbformat": 4,
 "nbformat_minor": 5
}
