{
 "cells": [
  {
   "cell_type": "code",
   "execution_count": 83,
   "id": "575a2a5e",
   "metadata": {},
   "outputs": [],
   "source": [
    "import json\n",
    "import pandas as pd\n",
    "from bs4 import BeautifulSoup"
   ]
  },
  {
   "cell_type": "markdown",
   "id": "27a400ed",
   "metadata": {},
   "source": [
    "## Bài 3"
   ]
  },
  {
   "cell_type": "markdown",
   "id": "435c2970",
   "metadata": {},
   "source": [
    "### 3.1"
   ]
  },
  {
   "cell_type": "code",
   "execution_count": 84,
   "id": "102f0373",
   "metadata": {},
   "outputs": [],
   "source": [
    "with open('../Lab3/data/PythonGroup.json') as f:\n",
    "    group = json.load(f)"
   ]
  },
  {
   "cell_type": "code",
   "execution_count": 85,
   "id": "75a141ba",
   "metadata": {},
   "outputs": [],
   "source": [
    "group = group['group']\n",
    "\n",
    "# Chia các bài post ra\n",
    "post_1 = group['posts'][0]\n",
    "post_2 = group['posts'][1]\n",
    "\n",
    "post_id_1 = post_1['post_id']\n",
    "post_id_2 = post_2['post_id']\n",
    "\n",
    "# Tác giả bài viết\n",
    "author_1 = post_1['author'] \n",
    "author_2 = post_2['author']\n",
    "\n",
    "# Nội dung bài viết\n",
    "content_1 = post_1['content']\n",
    "content_2 = post_2['content']\n",
    "\n",
    "# Thời gian đăng\n",
    "timestamp_1 = post_1['timestamp']\n",
    "timestamp_2 = post_2['timestamp']\n",
    "\n",
    "# likes\n",
    "likes_1 = post_1['likes']\n",
    "likes_2 = post_2['likes']\n",
    "\n",
    "# share\n",
    "shares_1 = post_1['shares']\n",
    "shares_2 = post_2['shares']"
   ]
  },
  {
   "cell_type": "code",
   "execution_count": null,
   "id": "32de060e",
   "metadata": {},
   "outputs": [
    {
     "data": {
      "application/vnd.microsoft.datawrangler.viewer.v0+json": {
       "columns": [
        {
         "name": "index",
         "rawType": "int64",
         "type": "integer"
        },
        {
         "name": "post_id",
         "rawType": "object",
         "type": "string"
        },
        {
         "name": "content",
         "rawType": "object",
         "type": "string"
        },
        {
         "name": "timestamp",
         "rawType": "object",
         "type": "string"
        },
        {
         "name": "likes",
         "rawType": "object",
         "type": "unknown"
        },
        {
         "name": "shares",
         "rawType": "object",
         "type": "unknown"
        },
        {
         "name": "author.user_id",
         "rawType": "object",
         "type": "string"
        },
        {
         "name": "author.name",
         "rawType": "object",
         "type": "string"
        }
       ],
       "conversionMethod": "pd.DataFrame",
       "ref": "bc5c8f0b-9cb8-4dfa-b773-397b1c7aa7ab",
       "rows": [
        [
         "0",
         "post_001",
         "Python is very easy. How do you think?",
         "2024-08-03 12:34:56",
         "[{'user_id': 'user_002', 'name': 'Jane Smith', 'timestamp': '2024-08-03 12:45:00'}, {'user_id': 'user_003', 'name': 'Alice Johnson', 'timestamp': '2024-08-03 13:00:00'}]",
         "[{'user_id': 'user_004', 'name': 'Bob Brown', 'timestamp': '2024-08-03 14:00:00 '}]",
         "user_001",
         "John Doe"
        ],
        [
         "1",
         "post_002",
         "Learning Python by reading book and coding",
         "2024-08-03 15:34:56",
         "[{'user_id': 'user_001', 'name': 'John Doe', 'timestamp': '2024-08-03 16:00:00'}]",
         "[{'user_id': 'user_003', 'name': 'Alice Johnson', 'timestamp': '2024-08-03 17:00:00'}]",
         "user_002",
         "Jane Smith"
        ]
       ],
       "shape": {
        "columns": 7,
        "rows": 2
       }
      },
      "text/html": [
       "<div>\n",
       "<style scoped>\n",
       "    .dataframe tbody tr th:only-of-type {\n",
       "        vertical-align: middle;\n",
       "    }\n",
       "\n",
       "    .dataframe tbody tr th {\n",
       "        vertical-align: top;\n",
       "    }\n",
       "\n",
       "    .dataframe thead th {\n",
       "        text-align: right;\n",
       "    }\n",
       "</style>\n",
       "<table border=\"1\" class=\"dataframe\">\n",
       "  <thead>\n",
       "    <tr style=\"text-align: right;\">\n",
       "      <th></th>\n",
       "      <th>post_id</th>\n",
       "      <th>content</th>\n",
       "      <th>timestamp</th>\n",
       "      <th>likes</th>\n",
       "      <th>shares</th>\n",
       "      <th>author.user_id</th>\n",
       "      <th>author.name</th>\n",
       "    </tr>\n",
       "  </thead>\n",
       "  <tbody>\n",
       "    <tr>\n",
       "      <th>0</th>\n",
       "      <td>post_001</td>\n",
       "      <td>Python is very easy. How do you think?</td>\n",
       "      <td>2024-08-03 12:34:56</td>\n",
       "      <td>[{'user_id': 'user_002', 'name': 'Jane Smith',...</td>\n",
       "      <td>[{'user_id': 'user_004', 'name': 'Bob Brown', ...</td>\n",
       "      <td>user_001</td>\n",
       "      <td>John Doe</td>\n",
       "    </tr>\n",
       "    <tr>\n",
       "      <th>1</th>\n",
       "      <td>post_002</td>\n",
       "      <td>Learning Python by reading book and coding</td>\n",
       "      <td>2024-08-03 15:34:56</td>\n",
       "      <td>[{'user_id': 'user_001', 'name': 'John Doe', '...</td>\n",
       "      <td>[{'user_id': 'user_003', 'name': 'Alice Johnso...</td>\n",
       "      <td>user_002</td>\n",
       "      <td>Jane Smith</td>\n",
       "    </tr>\n",
       "  </tbody>\n",
       "</table>\n",
       "</div>"
      ],
      "text/plain": [
       "    post_id                                     content            timestamp  \\\n",
       "0  post_001      Python is very easy. How do you think?  2024-08-03 12:34:56   \n",
       "1  post_002  Learning Python by reading book and coding  2024-08-03 15:34:56   \n",
       "\n",
       "                                               likes  \\\n",
       "0  [{'user_id': 'user_002', 'name': 'Jane Smith',...   \n",
       "1  [{'user_id': 'user_001', 'name': 'John Doe', '...   \n",
       "\n",
       "                                              shares author.user_id  \\\n",
       "0  [{'user_id': 'user_004', 'name': 'Bob Brown', ...       user_001   \n",
       "1  [{'user_id': 'user_003', 'name': 'Alice Johnso...       user_002   \n",
       "\n",
       "  author.name  \n",
       "0    John Doe  \n",
       "1  Jane Smith  "
      ]
     },
     "execution_count": 89,
     "metadata": {},
     "output_type": "execute_result"
    }
   ],
   "source": [
    "posts = [post_1, post_2]\n",
    "pd.json_normalize(posts)"
   ]
  },
  {
   "cell_type": "code",
   "execution_count": null,
   "id": "b97887de",
   "metadata": {},
   "outputs": [
    {
     "name": "stdout",
     "output_type": "stream",
     "text": [
      "user_id: user_002 - name: Jane Smith\n",
      "user_id: user_003 - name: Alice Johnson\n"
     ]
    }
   ],
   "source": [
    "def extract_data_from_PythonGroup(data:dict):\n",
    "    pass"
   ]
  }
 ],
 "metadata": {
  "kernelspec": {
   "display_name": "Python 3",
   "language": "python",
   "name": "python3"
  },
  "language_info": {
   "codemirror_mode": {
    "name": "ipython",
    "version": 3
   },
   "file_extension": ".py",
   "mimetype": "text/x-python",
   "name": "python",
   "nbconvert_exporter": "python",
   "pygments_lexer": "ipython3",
   "version": "3.10.2"
  }
 },
 "nbformat": 4,
 "nbformat_minor": 5
}
