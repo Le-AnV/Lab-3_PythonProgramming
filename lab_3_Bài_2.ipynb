{
 "cells": [
  {
   "cell_type": "markdown",
   "id": "d8323f75",
   "metadata": {},
   "source": [
    "# Bài 2"
   ]
  },
  {
   "cell_type": "code",
   "execution_count": 1,
   "id": "7f55036d",
   "metadata": {},
   "outputs": [],
   "source": [
    "# Import các thư viện cần thiết\n",
    "from bs4 import BeautifulSoup\n",
    "import pandas as pd"
   ]
  },
  {
   "cell_type": "code",
   "execution_count": 2,
   "id": "2787459f",
   "metadata": {},
   "outputs": [],
   "source": [
    "# Đọc nội dung file NetworkConf.xml\n",
    "with open('../Lab3/data/NetworkConf.xml','r', encoding = 'utf-8') as f:\n",
    "    NetworkConf = f.read()\n",
    "\n",
    "# Đọc nội dung file TermConf.xml\n",
    "with open('../Lab3/data/TermConf.xml','r',encoding='utf-8') as f:\n",
    "    TermConf = f.read()\n",
    "\n",
    "# Parse nội dung file NetworkConf.xml bằng BeautifulSoup\n",
    "NetworkConf = BeautifulSoup(NetworkConf,'xml')\n",
    "NetworkConf = NetworkConf.find_all('NetworkSession')\n",
    "\n",
    "# Parse nội dung file TermConf.xml bằng BeautifulSoup\n",
    "TermConf = BeautifulSoup(TermConf,'xml')\n",
    "TermConf = TermConf.find('Terminal')"
   ]
  },
  {
   "cell_type": "markdown",
   "id": "7db4181b",
   "metadata": {},
   "source": [
    "### 1. Hiển thị thông tin theo yêu cầu của đề bài"
   ]
  },
  {
   "cell_type": "markdown",
   "id": "d914e0b2",
   "metadata": {},
   "source": [
    "#### Trích xuất dữ liệu"
   ]
  },
  {
   "cell_type": "code",
   "execution_count": 3,
   "id": "aac0b025",
   "metadata": {},
   "outputs": [],
   "source": [
    "def get_data_from_NetworkConf(soup: BeautifulSoup) -> dict:\n",
    "    '''Lấy các dữ liệu theo yêu cầu của đề bài trong file NetworkConf.xml'''\n",
    "    groupProtpcol = {}\n",
    "\n",
    "    for _ in soup:\n",
    "        # Lấy thuộc tính `name` và `protocol` từ tag NetworkSession\n",
    "        name = _.get('name').strip()\n",
    "        protocol = _.get('protocol').strip()\n",
    "\n",
    "        # Lấy thông tin địa chỉ mạng từ tag NetworkAddress\n",
    "        NetworkAddress = _.find('NetworkAddress')\n",
    "        Ip, Port = NetworkAddress.get('hostIP').strip().split(':')\n",
    "\n",
    "        # Chuyển đổi giá trị `enable` thành trạng thái kết nối\n",
    "        dictEnable = {\"0\": \"không kết nối\", \"1\": \"đang kết nối\"}\n",
    "        enable = _.get('enable').strip()\n",
    "        status = dictEnable.get(enable).strip()\n",
    "\n",
    "        # Nhóm các session theo protocol\n",
    "        if protocol not in groupProtpcol:\n",
    "            groupProtpcol[protocol] = []\n",
    "        groupProtpcol[protocol].append((name, Ip, Port, enable, status))\n",
    "\n",
    "    return groupProtpcol"
   ]
  },
  {
   "cell_type": "code",
   "execution_count": 4,
   "id": "c4959880",
   "metadata": {},
   "outputs": [],
   "source": [
    "def get_data_from_TermConf(soup: BeautifulSoup) -> list:\n",
    "    '''Lấy các dữ liệu theo yêu cầu của đề bài trong file TermConf.xml'''\n",
    "    lst_termConf = []\n",
    "\n",
    "    # Lấy thuộc tính `id` và các thông tin con từ tag Terminal\n",
    "    id = soup.get('id').strip()\n",
    "    TermIP = soup.find('TermIP').text.strip()\n",
    "    branchNumber = soup.find('branchNumber').text.strip()\n",
    "    TerminalType = soup.find('TerminalType').text.strip()\n",
    "\n",
    "    # Thêm thông tin vào danh sách\n",
    "    lst_termConf.append([id, TermIP, branchNumber, TerminalType]) \n",
    "\n",
    "    return lst_termConf"
   ]
  },
  {
   "cell_type": "markdown",
   "id": "19a3b628",
   "metadata": {},
   "source": [
    "#### Hiển thị dữ liệu"
   ]
  },
  {
   "cell_type": "code",
   "execution_count": 5,
   "id": "31bd5229",
   "metadata": {},
   "outputs": [
    {
     "name": "stdout",
     "output_type": "stream",
     "text": [
      "Hiện thị thông tin theo từng Protocol\n",
      "\n",
      "Protocol: ISO8583\n",
      "\tname: ATMP1, IP: 10.1.8.11, Port: 1234, enable:0, status: không kết nối\n",
      "\tname: ATMP3, IP: 21.96.3.137, Port: 9112, enable:0, status: không kết nối\n",
      "\n",
      "Protocol: NDC/DDC\n",
      "\tname: ATMP2, IP: 10.30.1.65, Port: 8081, enable:1, status: đang kết nối\n",
      "\n",
      "Protocol: xml/json\n",
      "\tname: RESTFUL1, IP: 10.1.24.86, Port: 8089, enable:0, status: không kết nối\n",
      "\tname: RESTFUL2, IP: 10.1.25.88, Port: 8088, enable:1, status: đang kết nối\n",
      "---------------------------------------------------------------------------\n",
      "Thông tin của ATM\n",
      "\n",
      "ID: 27082005\n",
      "IP: 192.168.1.9\n",
      "Branch Number: 2005\n",
      "Terminal Type: abcdef\n"
     ]
    }
   ],
   "source": [
    "# Hiển thị dữ liệu từ file NetworkConf.xml\n",
    "print(f\"Hiện thị thông tin theo từng Protocol\")\n",
    "for _ in get_data_from_NetworkConf(NetworkConf):\n",
    "    print(f\"\\nProtocol: {_}\")\n",
    "\n",
    "    for name, Ip, Port, enable, status in get_data_from_NetworkConf(NetworkConf)[_]:\n",
    "        print(f\"\\tname: {name}, IP: {Ip}, Port: {Port}, enable:{enable}, status: {status}\")\n",
    "        \n",
    "print('---'*25)\n",
    "\n",
    "# Hiển thị dữ liệu từ file TermConf.xml\n",
    "print(f\"Thông tin của ATM\\n\")\n",
    "for id, TermIP, branchNumber, TerminalType in get_data_from_TermConf(TermConf):\n",
    "    print(f\"ID: {id}\\nIP: {TermIP}\\nBranch Number: {branchNumber}\\nTerminal Type: {TerminalType}\")"
   ]
  },
  {
   "cell_type": "markdown",
   "id": "d7148d39",
   "metadata": {},
   "source": [
    "---"
   ]
  },
  {
   "cell_type": "markdown",
   "id": "a6eb9090",
   "metadata": {},
   "source": [
    "### 2. "
   ]
  },
  {
   "cell_type": "code",
   "execution_count": 6,
   "id": "67eb7a05",
   "metadata": {},
   "outputs": [],
   "source": [
    "import xml.etree.ElementTree as ET\n",
    "import socket\n",
    "\n",
    "# Load XML\n",
    "term_tree = ET.parse(\"../Lab3/data/TermConf.xml\")\n",
    "term_root = term_tree.getroot()\n",
    "\n",
    "network_tree = ET.parse(\"../Lab3/data/NetworkConf.xml\")\n",
    "network_root = network_tree.getroot()\n"
   ]
  },
  {
   "cell_type": "code",
   "execution_count": 7,
   "id": "70549fa8",
   "metadata": {},
   "outputs": [],
   "source": [
    "def get_local_ip():\n",
    "    '''Lấy địa chỉ IP cục bộ của máy'''\n",
    "    try:\n",
    "        s = socket.socket(socket.AF_INET, socket.SOCK_DGRAM)\n",
    "        s.connect((\"8.8.8.8\", 80))\n",
    "        ip = s.getsockname()[0]\n",
    "        s.close()\n",
    "        return ip\n",
    "    except:\n",
    "        return \"127.0.0.1\""
   ]
  },
  {
   "cell_type": "code",
   "execution_count": 8,
   "id": "70c79e52",
   "metadata": {},
   "outputs": [],
   "source": [
    "def update_terminal_info():\n",
    "    '''Cập nhật thông tin Terminal trong file TermConf.xml'''\n",
    "    ip = get_local_ip()  # Lấy IP cục bộ\n",
    "    terminal = term_root.find(\"Terminal\")\n",
    "\n",
    "    # Cập nhật các thông tin Terminal\n",
    "    terminal.find(\"TermIP\").text = ip\n",
    "    terminal.set(\"id\", input(\"Nhập Terminal ID mới: \"))\n",
    "    terminal.find(\"branchNumber\").text = input(\"Nhập Branch Number: \")\n",
    "    terminal.find(\"TerminalType\").text = input(\"Nhập Terminal Type: \")\n",
    "    terminal.find(\"autorestartmode\").text = input(\"Nhập Auto Restart Mode (0 hoặc 1): \")\n",
    "\n",
    "    # Ghi lại file TermConf.xml\n",
    "    term_tree.write(\"../Lab3/data/TermConf.xml\", encoding=\"utf-8\", xml_declaration=True)\n",
    "    print(\"Đã cập nhật TerminalConf.xml\")"
   ]
  },
  {
   "cell_type": "code",
   "execution_count": 9,
   "id": "285c7467",
   "metadata": {},
   "outputs": [],
   "source": [
    "def update_network_session():\n",
    "    '''Cập nhật thông tin session trong file NetworkConf.xml'''\n",
    "    sessions = network_root.find(\".//Sessions\")\n",
    "    all_sessions = sessions.findall(\"NetworkSession\")\n",
    "    \n",
    "    # Hiển thị danh sách các session\n",
    "    print(\"\\nDanh sách sessions:\")\n",
    "    for idx, s in enumerate(all_sessions):\n",
    "        print(f\"{idx+1}. {s.attrib.get('name')} - Protocol: {s.attrib.get('protocol')}\")\n",
    "\n",
    "    # Chọn session để cập nhật\n",
    "    choice = int(input(\"Chọn session muốn cập nhật (nhập số): \")) - 1\n",
    "    session = all_sessions[choice]\n",
    "\n",
    "    # Cập nhật thông tin session\n",
    "    new_ip = input(\"Nhập IP:Port mới cho session: \")\n",
    "    session.find(\"NetworkAddress\").attrib[\"hostIP\"] = new_ip\n",
    "    session.set(\"name\", input(\"Nhập name mới: \"))\n",
    "    session.set(\"desc\", input(\"Nhập mô tả (desc): \"))\n",
    "    session.set(\"protocol\", input(\"Nhập protocol mới: \"))\n",
    "\n",
    "    # Nếu protocol là NDC/DDC, cập nhật thêm thông tin bảo mật\n",
    "    if session.attrib[\"protocol\"] == \"NDC/DDC\":\n",
    "        sec = session.find(\".//Security/Auth\")\n",
    "        if sec is not None:\n",
    "            sec.set(\"serverX509CertificateName\", input(\"Nhập serverX509CertificateName mới: \"))\n",
    "            sec.set(\"sslProtocol\", input(\"Nhập sslProtocol mới (VD: Tls12): \"))\n",
    "\n",
    "    # Ghi lại file NetworkConf.xml\n",
    "    network_tree.write(\"../Lab3/data/NetworkConf.xml\", encoding=\"utf-8\", xml_declaration=True)\n",
    "    print(\"Đã cập nhật NetworkConf.xml\")"
   ]
  },
  {
   "cell_type": "code",
   "execution_count": 10,
   "id": "1d69a00a",
   "metadata": {},
   "outputs": [
    {
     "name": "stdout",
     "output_type": "stream",
     "text": [
      "\n",
      "========== MENU ==========\n",
      "1. Cập nhật TerminalConf (IP, ID, Branch, Type, AutoRestart)\n",
      "2. Cập nhật NetworkConf (session info)\n",
      "0. Thoát\n",
      "\n",
      "Danh sách sessions:\n",
      "1. ATMP1 - Protocol: ISO8583\n",
      "2. ATMP2 - Protocol: NDC/DDC\n",
      "3. RESTFUL1 - Protocol: xml/json\n",
      "4. RESTFUL2 - Protocol: xml/json\n",
      "5. ATMP3 - Protocol: ISO8583\n",
      "Đã cập nhật NetworkConf.xml\n",
      "\n",
      "========== MENU ==========\n",
      "1. Cập nhật TerminalConf (IP, ID, Branch, Type, AutoRestart)\n",
      "2. Cập nhật NetworkConf (session info)\n",
      "0. Thoát\n"
     ]
    }
   ],
   "source": [
    "def main():\n",
    "    '''Hàm chính để hiển thị menu và xử lý lựa chọn'''\n",
    "    while True:\n",
    "        print(\"\\n========== MENU ==========\")\n",
    "        print(\"1. Cập nhật TerminalConf (IP, ID, Branch, Type, AutoRestart)\")\n",
    "        print(\"2. Cập nhật NetworkConf (session info)\")\n",
    "        print(\"0. Thoát\")\n",
    "        choice = input(\"Chọn chức năng: \")\n",
    "\n",
    "        if choice == \"1\":\n",
    "            update_terminal_info()  # Gọi hàm cập nhật TerminalConf\n",
    "        elif choice == \"2\":\n",
    "            update_network_session()  # Gọi hàm cập nhật NetworkConf\n",
    "        elif choice == \"0\":\n",
    "            break  # Thoát chương trình\n",
    "        else:\n",
    "            print(\"Lựa chọn không hợp lệ!\")\n",
    "\n",
    "main()"
   ]
  }
 ],
 "metadata": {
  "kernelspec": {
   "display_name": "Python 3",
   "language": "python",
   "name": "python3"
  },
  "language_info": {
   "codemirror_mode": {
    "name": "ipython",
    "version": 3
   },
   "file_extension": ".py",
   "mimetype": "text/x-python",
   "name": "python",
   "nbconvert_exporter": "python",
   "pygments_lexer": "ipython3",
   "version": "3.10.2"
  }
 },
 "nbformat": 4,
 "nbformat_minor": 5
}
