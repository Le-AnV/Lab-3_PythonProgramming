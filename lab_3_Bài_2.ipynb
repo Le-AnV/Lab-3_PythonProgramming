{
 "cells": [
  {
   "cell_type": "code",
   "execution_count": 148,
   "id": "7f55036d",
   "metadata": {},
   "outputs": [],
   "source": [
    "from bs4 import BeautifulSoup\n",
    "import pandas as pd"
   ]
  },
  {
   "cell_type": "markdown",
   "id": "d8323f75",
   "metadata": {},
   "source": [
    "## Bài 2"
   ]
  },
  {
   "cell_type": "code",
   "execution_count": 149,
   "id": "5099526b",
   "metadata": {},
   "outputs": [],
   "source": [
    "# Đọc file NetworkConf\n",
    "with open('../Lab3/data/NetworkConf.xml','r', encoding = 'utf-8') as f:\n",
    "    NetworkConf = f.read()\n",
    "\n",
    "# Đọc file TermConf\n",
    "with open('../Lab3/data/TermConf.xml','r',encoding='utf-8') as f:\n",
    "    TermConf = f.read()"
   ]
  },
  {
   "cell_type": "code",
   "execution_count": 150,
   "id": "2787459f",
   "metadata": {},
   "outputs": [],
   "source": [
    "# Lấy dữ liệu trong các tag cần thiết\n",
    "NetworkConf = BeautifulSoup(NetworkConf,'xml')\n",
    "NetworkConf = NetworkConf.find_all('NetworkSession')\n",
    "\n",
    "TermConf = BeautifulSoup(TermConf,'xml')\n",
    "TermConf = TermConf.find('Terminal')"
   ]
  },
  {
   "cell_type": "markdown",
   "id": "7db4181b",
   "metadata": {},
   "source": [
    "### 2.1"
   ]
  },
  {
   "cell_type": "markdown",
   "id": "d914e0b2",
   "metadata": {},
   "source": [
    "#### Trích xuất dữ liệu"
   ]
  },
  {
   "cell_type": "code",
   "execution_count": 151,
   "id": "aac0b025",
   "metadata": {},
   "outputs": [],
   "source": [
    "def get_data_from_NetworkConf(soup: BeautifulSoup) -> dict:\n",
    "\n",
    "    '''Lấy các dữ liệu theo yêu cầu của đề bài trong file NetworkConf.xml'''\n",
    "    groupProtpcol = {}\n",
    "\n",
    "    for _ in soup:\n",
    "        name = _.get('name').strip()\n",
    "        protocol = _.get('protocol').strip()\n",
    "\n",
    "        # Thuộc tính `hostId` nằm trong tag khác nên ta sử dụng `find` để truy cập vào tag đó\n",
    "        NetworkAddress = _.find('NetworkAddress')\n",
    "\n",
    "        # trước ':' là ip, sau ':' là port. vd: 10.30.1.65 : 8081\n",
    "        Ip, Port = NetworkAddress.get('hostIP').strip().split(':')\n",
    "\n",
    "        # `enable` chỉ có 2 giá trị\n",
    "        dictEnable = {\"0\": \"không kết nối\",\n",
    "                    \"1\": \"đang kết nối\"}\n",
    "        enable = _.get('enable').strip()\n",
    "        status = dictEnable.get(enable).strip()\n",
    "\n",
    "        if protocol not in groupProtpcol:\n",
    "            # Protocol sẽ làm key\n",
    "            groupProtpcol[protocol] = []\n",
    "        groupProtpcol[protocol].append((name, Ip, Port, enable, status))\n",
    "\n",
    "    return groupProtpcol"
   ]
  },
  {
   "cell_type": "code",
   "execution_count": 152,
   "id": "c4959880",
   "metadata": {},
   "outputs": [],
   "source": [
    "def get_data_from_TermConf(soup:BeautifulSoup) -> list:\n",
    "\n",
    "    '''Lấy các dữ liệu theo yêu cầu của đề bài trong file TermConf.xml'''\n",
    "    lst_termConf = []\n",
    "\n",
    "    id = soup.get('id').strip()\n",
    "    \n",
    "    # Các dữ liệu nằm trong tag con thì cần phải sử dụng find để truy cập\n",
    "    TermIP = soup.find('TermIP').text.strip()\n",
    "    branchNumber = soup.find('branchNumber').text.strip()\n",
    "    TerminalType = soup.find('TerminalType').text.strip()\n",
    "\n",
    "    lst_termConf.append([id, TermIP, branchNumber,TerminalType]) \n",
    "\n",
    "    return lst_termConf\n"
   ]
  },
  {
   "cell_type": "markdown",
   "id": "19a3b628",
   "metadata": {},
   "source": [
    "#### Hiển thị dữ liệu"
   ]
  },
  {
   "cell_type": "code",
   "execution_count": 153,
   "id": "31bd5229",
   "metadata": {},
   "outputs": [
    {
     "name": "stdout",
     "output_type": "stream",
     "text": [
      "Hiện thị thông tin theo từng Protocol\n",
      "\n",
      "Protocol: ISO8583\n",
      "\tname: ATMP1, IP: 10.1.8.11, Port: 1234, enable:0, status: không kết nối\n",
      "\tname: ATMP3, IP: 21.96.3.137, Port: 9112, enable:0, status: không kết nối\n",
      "\n",
      "Protocol: NDC/DDC\n",
      "\tname: ATMP2, IP: 10.30.1.65, Port: 8081, enable:1, status: đang kết nối\n",
      "\n",
      "Protocol: xml/json\n",
      "\tname: RESTFUL1, IP: 10.1.24.86, Port: 8089, enable:0, status: không kết nối\n",
      "\tname: RESTFUL2, IP: 10.1.25.88, Port: 8088, enable:1, status: đang kết nối\n",
      "---------------------------------------------------------------------------\n",
      "Thông tin của ATM\n",
      "\n",
      "ID: 00000011\n",
      "IP: 10.1.12.15\n",
      "Branch Number: 1234\n",
      "Terminal Type: Auto Banking\n"
     ]
    }
   ],
   "source": [
    "# Hiện thị dữ liệu theo yêu cầu trong file NetworkConf.xml\n",
    "print(f\"Hiện thị thông tin theo từng Protocol\")\n",
    "for _ in get_data_from_NetworkConf(NetworkConf):\n",
    "    print(f\"\\nProtocol: {_}\")\n",
    "\n",
    "    for name, Ip, Port, enable, status in get_data_from_NetworkConf(NetworkConf)[_]:\n",
    "        print(f\"\\tname: {name}, IP: {Ip}, Port: {Port}, enable:{enable}, status: {status}\")\n",
    "        \n",
    "print('---'*25)\n",
    "print(f\"Thông tin của ATM\\n\")\n",
    "for id, TermIP, branchNumber, TerminalType in get_data_from_TermConf(TermConf):\n",
    "    print(f\"ID: {id}\\nIP: {TermIP}\\nBranch Number: {branchNumber}\\nTerminal Type: {TerminalType}\")"
   ]
  },
  {
   "cell_type": "markdown",
   "id": "d7148d39",
   "metadata": {},
   "source": [
    "---"
   ]
  },
  {
   "cell_type": "markdown",
   "id": "a6eb9090",
   "metadata": {},
   "source": [
    "### 2.2"
   ]
  }
 ],
 "metadata": {
  "kernelspec": {
   "display_name": "Python 3",
   "language": "python",
   "name": "python3"
  },
  "language_info": {
   "codemirror_mode": {
    "name": "ipython",
    "version": 3
   },
   "file_extension": ".py",
   "mimetype": "text/x-python",
   "name": "python",
   "nbconvert_exporter": "python",
   "pygments_lexer": "ipython3",
   "version": "3.10.2"
  }
 },
 "nbformat": 4,
 "nbformat_minor": 5
}
