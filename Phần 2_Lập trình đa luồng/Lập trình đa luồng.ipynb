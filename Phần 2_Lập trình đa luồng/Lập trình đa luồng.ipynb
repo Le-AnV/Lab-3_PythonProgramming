{
 "cells": [
  {
   "cell_type": "markdown",
   "id": "97435a9a",
   "metadata": {},
   "source": [
    "Câu 1: Viết chương trình dùng ngôn ngữ Python tính tổng các số từ 1 đến 100 dùng kỹ thuật \n",
    "lập trình đa luồng."
   ]
  },
  {
   "cell_type": "code",
   "execution_count": 10,
   "id": "ec836161",
   "metadata": {},
   "outputs": [
    {
     "name": "stdout",
     "output_type": "stream",
     "text": [
      "Tổng từ 1 đến 100 là: 5050\n"
     ]
    }
   ],
   "source": [
    "import threading\n",
    "\n",
    "total = 0\n",
    "lock = threading.Lock()\n",
    "\n",
    "# Hàm tính tổng các số trong khoảng [start, end]\n",
    "def sum_range(start, end):\n",
    "    global total\n",
    "    local_sum = sum(range(start, end + 1))\n",
    "    with lock:  # Sử dụng lock để đảm bảo tính toàn vẹn dữ liệu\n",
    "        total += local_sum\n",
    "\n",
    "# Chia 2 thread, mỗi thread tính một nửa khoảng\n",
    "t1 = threading.Thread(target=sum_range, args=(1, 50))\n",
    "t2 = threading.Thread(target=sum_range, args=(51, 100))\n",
    "\n",
    "t1.start()  # Bắt đầu thread 1\n",
    "t2.start()  # Bắt đầu thread 2\n",
    "\n",
    "t1.join()  # Chờ thread 1 hoàn thành\n",
    "t2.join()  # Chờ thread 2 hoàn thành\n",
    "\n",
    "print(\"Tổng từ 1 đến 100 là:\", total)"
   ]
  },
  {
   "cell_type": "markdown",
   "id": "c0d7dbd7",
   "metadata": {},
   "source": [
    "Bài 2: Viết chương trình trong Python dùng kỹ thuật lập trình đa luồng với 3 thread để\n",
    "thực hiện công việc sau:\n",
    "- Thread 1: đọc dữ liệu từng số trong file “num_file.txt”. Nếu số đọc được là chẵn thì \n",
    "chuyển qua thread 2. Nếu số đọc được là lẻ thì chuyển qua thread 3.\n",
    "- Thread 2: khi nhận được số của thread 1 thì sẽ in ra các số nguyên tố từ 1 đến số đó.\n",
    "- Thread 3: khi nhận được số của thread 1 thì sẽ in ra các ước số của nó.\n",
    "Sau mỗi bước ở trên sẽ có thời gian sleep 1s."
   ]
  },
  {
   "cell_type": "code",
   "execution_count": 8,
   "id": "763e3798",
   "metadata": {},
   "outputs": [
    {
     "name": "stdout",
     "output_type": "stream",
     "text": [
      "Số nguyên tố từ 1 đến 10: [2, 3, 5, 7]\n",
      "Các ước số của 15: [1, 3, 5, 15]\n",
      "Các ước số của 15: [1, 3, 5, 15]\n",
      "Số nguyên tố từ 1 đến 8: [2, 3, 5, 7]\n",
      "Số nguyên tố từ 1 đến 8: [2, 3, 5, 7]\n",
      "Các ước số của 7: [1, 7]\n",
      "Các ước số của 7: [1, 7]\n",
      "Số nguyên tố từ 1 đến 20: [2, 3, 5, 7, 11, 13, 17, 19]\n",
      "Số nguyên tố từ 1 đến 20: [2, 3, 5, 7, 11, 13, 17, 19]\n",
      "Các ước số của 11: [1, 11]\n",
      "Các ước số của 11: [1, 11]\n",
      "Các ước số của 13: [1, 13]\n",
      "Các ước số của 13: [1, 13]\n",
      "Các ước số của 9: [1, 3, 9]\n",
      "Các ước số của 9: [1, 3, 9]\n"
     ]
    }
   ],
   "source": [
    "import threading\n",
    "import time\n",
    "import queue\n",
    "\n",
    "even_queue = queue.Queue()  # Hàng đợi cho các số chẵn\n",
    "odd_queue = queue.Queue()   # Hàng đợi cho các số lẻ\n",
    "\n",
    "# Hàm kiểm tra số nguyên tố\n",
    "def is_prime(n):\n",
    "    if n < 2:\n",
    "        return False\n",
    "    for i in range(2, int(n ** 0.5)+1):\n",
    "        if n % i == 0:\n",
    "            return False\n",
    "    return True\n",
    "\n",
    "# Thread 1: Đọc dữ liệu từ file và phân loại số chẵn/lẻ\n",
    "def thread_read():\n",
    "    with open(\"num.txt\") as f:\n",
    "        for line in f:\n",
    "            num = int(line.strip())\n",
    "            if num % 2 == 0:\n",
    "                even_queue.put(num)  # Đưa số chẵn vào hàng đợi\n",
    "            else:\n",
    "                odd_queue.put(num)   # Đưa số lẻ vào hàng đợi\n",
    "            time.sleep(1)  # Tạm dừng 1 giây\n",
    "\n",
    "# Thread 2: Xử lý số chẵn, in ra các số nguyên tố từ 1 đến số đó\n",
    "def thread_even():\n",
    "    while True:\n",
    "        num = even_queue.get()\n",
    "        primes = [i for i in range(1, num + 1) if is_prime(i)]\n",
    "        print(f\"Số nguyên tố từ 1 đến {num}:\", primes)\n",
    "        time.sleep(1)  # Tạm dừng 1 giây\n",
    "\n",
    "# Thread 3: Xử lý số lẻ, in ra các ước số của nó\n",
    "def thread_odd():\n",
    "    while True:\n",
    "        num = odd_queue.get()\n",
    "        divisors = [i for i in range(1, num + 1) if num % i == 0]\n",
    "        print(f\"Các ước số của {num}:\", divisors)\n",
    "        time.sleep(1)  # Tạm dừng 1 giây\n",
    "\n",
    "# Tạo và khởi chạy các thread\n",
    "t1 = threading.Thread(target=thread_read)\n",
    "t2 = threading.Thread(target=thread_even, daemon=True)\n",
    "t3 = threading.Thread(target=thread_odd, daemon=True)\n",
    "\n",
    "t2.start()  # Bắt đầu thread xử lý số chẵn\n",
    "t3.start()  # Bắt đầu thread xử lý số lẻ\n",
    "t1.start()  # Bắt đầu thread đọc dữ liệu\n",
    "\n",
    "t1.join()  # Chờ thread đọc dữ liệu hoàn thành"
   ]
  },
  {
   "cell_type": "markdown",
   "id": "2b635823",
   "metadata": {},
   "source": [
    "Bài 3: Viết một chương trình dùng kỹ thuật lập trình đa luồng trong Python mô phỏng việc \n",
    "cập nhật số lượng sản phẩm trong kho. Biết rằng số lượng sản phẩm sẽ bị thay đổi khi có \n",
    "một trong hai giao dịch bán hàng hoặc trả hàng"
   ]
  },
  {
   "cell_type": "code",
   "execution_count": 9,
   "id": "01a5e062",
   "metadata": {},
   "outputs": [
    {
     "name": "stdout",
     "output_type": "stream",
     "text": [
      "Bán 30 sản phẩm. Số lượng còn lại: 70\n",
      "Nhập lại 50 sản phẩm. Số lượng hiện tại: 120\n",
      "Bán 20 sản phẩm. Số lượng còn lại: 100\n"
     ]
    }
   ],
   "source": [
    "import threading\n",
    "\n",
    "# Biến toàn cục lưu trữ số lượng sản phẩm\n",
    "inventory = 100\n",
    "lock = threading.Lock()\n",
    "\n",
    "# Hàm mô phỏng giao dịch bán hàng\n",
    "def sell(quantity):\n",
    "    global inventory\n",
    "    with lock:  # Đảm bảo chỉ một thread thay đổi inventory tại một thời điểm\n",
    "        if inventory >= quantity:\n",
    "            inventory -= quantity\n",
    "            print(f\"Bán {quantity} sản phẩm. Số lượng còn lại: {inventory}\")\n",
    "        else:\n",
    "            print(\"Không đủ hàng để bán.\")\n",
    "\n",
    "# Hàm mô phỏng giao dịch trả hàng\n",
    "def restock(quantity):\n",
    "    global inventory\n",
    "    with lock:\n",
    "        inventory += quantity\n",
    "        print(f\"Nhập lại {quantity} sản phẩm. Số lượng hiện tại: {inventory}\")\n",
    "\n",
    "# Tạo các thread mô phỏng giao dịch\n",
    "t1 = threading.Thread(target=sell, args=(30,))\n",
    "t2 = threading.Thread(target=restock, args=(50,))\n",
    "t3 = threading.Thread(target=sell, args=(20,))\n",
    "\n",
    "t1.start()  # Bắt đầu thread bán hàng\n",
    "t2.start()  # Bắt đầu thread nhập hàng\n",
    "t3.start()  # Bắt đầu thread bán hàng\n",
    "\n",
    "t1.join()  # Chờ thread bán hàng hoàn thành\n",
    "t2.join()  # Chờ thread nhập hàng hoàn thành\n",
    "t3.join()  # Chờ thread bán hàng hoàn thành"
   ]
  }
 ],
 "metadata": {
  "kernelspec": {
   "display_name": "Python 3",
   "language": "python",
   "name": "python3"
  },
  "language_info": {
   "codemirror_mode": {
    "name": "ipython",
    "version": 3
   },
   "file_extension": ".py",
   "mimetype": "text/x-python",
   "name": "python",
   "nbconvert_exporter": "python",
   "pygments_lexer": "ipython3",
   "version": "3.10.2"
  }
 },
 "nbformat": 4,
 "nbformat_minor": 5
}
